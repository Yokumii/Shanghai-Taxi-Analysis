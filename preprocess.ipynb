{
 "cells": [
  {
   "cell_type": "markdown",
   "metadata": {},
   "source": [
    "## 一、异常点清洗\n",
    "1. 删除坐标漂移点：通常GPS坐标漂移表现为经纬度值异常大或异常小\n",
    "2. 删除数据缺失点：检查是否有缺失值（NaN或空值）"
   ]
  },
  {
   "cell_type": "code",
   "execution_count": 4,
   "metadata": {},
   "outputs": [],
   "source": [
    "# 相关包导入\n",
    "import pandas as pd\n",
    "import os\n",
    "from pathlib import Path\n",
    "import logging"
   ]
  },
  {
   "cell_type": "code",
   "execution_count": 2,
   "metadata": {},
   "outputs": [],
   "source": [
    "def clean_gps_data(df, file_name):\n",
    "    # 定义合理的经纬度范围\n",
    "    # 以下以上海市为例\n",
    "    LAT_MIN, LAT_MAX = 30.40, 31.53  # 纬度范围\n",
    "    LON_MIN, LON_MAX = 120.52, 122.12  # 经度范围\n",
    "    \n",
    "    # 记录原始数据量\n",
    "    original_count = len(df)\n",
    "    \n",
    "    # 删除缺失值并记录\n",
    "    missing_mask = df.isnull().any(axis=1)\n",
    "    df = df.dropna()\n",
    "    missing_count = missing_mask.sum()\n",
    "    if missing_count > 0:\n",
    "        logging.info(f\"文件 {file_name} 删除 {missing_count} 个缺失值\")\n",
    "    \n",
    "    # 删除坐标漂移点并记录\n",
    "    invalid_mask = ~((df['latitude'].between(LAT_MIN, LAT_MAX)) & \n",
    "                    (df['longitude'].between(LON_MIN, LON_MAX)))\n",
    "    df = df[~invalid_mask]\n",
    "    invalid_count = invalid_mask.sum()\n",
    "    if invalid_count > 0:\n",
    "        logging.info(f\"文件 {file_name} 删除 {invalid_count} 个坐标漂移点\")\n",
    "    \n",
    "    # 记录清洗结果\n",
    "    cleaned_count = len(df)\n",
    "    if original_count > cleaned_count:\n",
    "        logging.info(f\"文件 {file_name} 清洗比例: {(original_count - cleaned_count)/original_count:.2%}\")\n",
    "    \n",
    "    return df"
   ]
  },
  {
   "cell_type": "code",
   "execution_count": 3,
   "metadata": {},
   "outputs": [],
   "source": [
    "def setup_logger():\n",
    "    # 配置日志\n",
    "    logging.basicConfig(\n",
    "        filename='data_cleaning.log',\n",
    "        level=logging.INFO,\n",
    "        format='%(asctime)s - %(message)s'\n",
    "    )"
   ]
  },
  {
   "cell_type": "code",
   "execution_count": 4,
   "metadata": {},
   "outputs": [],
   "source": [
    "def process_taxi_data(folder_path):\n",
    "    setup_logger()\n",
    "    # 初始化统计变量\n",
    "    total_taxis = 0\n",
    "    total_points_before = 0\n",
    "    total_points_after = 0\n",
    "    \n",
    "    # 遍历文件夹中的所有CSV文件\n",
    "    for file in Path(folder_path).glob('*.csv'):\n",
    "        total_taxis += 1\n",
    "        \n",
    "        # 读取数据\n",
    "        df = pd.read_csv(file)\n",
    "        total_points_before += len(df)\n",
    "        \n",
    "        # 清洗数据\n",
    "        cleaned_df = clean_gps_data(df, file.name)\n",
    "        total_points_after += len(cleaned_df)\n",
    "        \n",
    "        # # 保存清洗后的数据（可选）\n",
    "        # cleaned_df.to_csv(f'cleaned_{file.name}', index=False)\n",
    "    \n",
    "    # 打印统计结果\n",
    "    print(f\"出租车总数: {total_taxis}\")\n",
    "    print(f\"清洗前轨迹点总数: {total_points_before}\")\n",
    "    print(f\"清洗后轨迹点总数: {total_points_after}\")\n",
    "    print(f\"清洗掉的数据比例: {(total_points_before - total_points_after)/total_points_before:.2%}\")\n",
    "\n",
    "# 用于测试清洗结果\n",
    "# process_taxi_data('./data/vehicles')"
   ]
  },
  {
   "cell_type": "markdown",
   "metadata": {},
   "source": [
    "**数据清洗结果**:\n",
    "\n",
    "出租车总数: 6831\n",
    "\n",
    "清洗前轨迹点总数: 27093007\n",
    "\n",
    "清洗后轨迹点总数: 25509125\n",
    "\n",
    "清洗掉的数据比例: 5.85%"
   ]
  },
  {
   "cell_type": "markdown",
   "metadata": {},
   "source": [
    "## 二、出租车出行记录提取\n",
    "根据我们的数据集的结构，一个GPS采样点的信息可以用五元组$<id, x, y, t, s>$表示，其中：\n",
    "\n",
    "* $id$: 出租车车牌的唯一映射;\n",
    "* $x$: 出租车坐标的经度;\n",
    "* $y$: 出租车坐标的纬度;\n",
    "* $t$: 该GPS采样点的时间戳(相对于当日0点的时间，单位：秒);\n",
    "* $s$: 出租车的载客状态(0表示载客，1表示空车，2表示空车但又任务);\n",
    "\n",
    "我们暂且提取其中的某一辆车的一组连续的“载客状态”下的轨迹作为一次有效出行，用于研究人群的出行行为；"
   ]
  },
  {
   "cell_type": "code",
   "execution_count": 5,
   "metadata": {},
   "outputs": [],
   "source": [
    "def extract_trips(df, vehicle_id):\n",
    "    # 按时间戳排序\n",
    "    df = df.sort_values('time')\n",
    "\n",
    "    # 初始化\n",
    "    trips = []\n",
    "    current_trip = []\n",
    "    \n",
    "    # 提取车辆ID的数字部分\n",
    "    vehicle_num = int(''.join(filter(str.isdigit, vehicle_id)))\n",
    "    \n",
    "    # 遍历每个GPS点\n",
    "    for _, row in df.iterrows():\n",
    "        # 如果是载客状态\n",
    "        if row['status'] == 0:\n",
    "            # 创建五元组 (id, x, y, t, s)\n",
    "            point = (\n",
    "                vehicle_num,  # 整数ID\n",
    "                row['longitude'],  # 保持浮点数\n",
    "                row['latitude'],  # 保持浮点数\n",
    "                int(row['time']),  # 转换为整数\n",
    "                int(row['status'])  # 转换为整数\n",
    "            )\n",
    "            current_trip.append(point)\n",
    "        else:\n",
    "            # 如果当前有载客轨迹，保存并重置\n",
    "            if len(current_trip) > 0:\n",
    "                trips.append(current_trip)\n",
    "                current_trip = []\n",
    "    \n",
    "    # 处理最后一个可能的载客轨迹\n",
    "    if len(current_trip) > 0:\n",
    "        trips.append(current_trip)\n",
    "    \n",
    "    return trips"
   ]
  },
  {
   "cell_type": "code",
   "execution_count": 6,
   "metadata": {},
   "outputs": [],
   "source": [
    "def save_trips(trips, output_folder, vehicle_id):\n",
    "    # 为每辆车创建输出文件夹\n",
    "    vehicle_num = int(''.join(filter(str.isdigit, vehicle_id)))\n",
    "    vehicle_folder = os.path.join(output_folder, f\"vehicle_{str(vehicle_num)}\")\n",
    "    os.makedirs(vehicle_folder, exist_ok=True)\n",
    "    \n",
    "    # 保存每个载客轨迹\n",
    "    for i, trip in enumerate(trips):\n",
    "        trip_df = pd.DataFrame(trip, columns=['id', 'x', 'y', 't', 's'])\n",
    "        # 确保数据类型\n",
    "        trip_df = trip_df.astype({\n",
    "            'id': 'int32',\n",
    "            't': 'int32',\n",
    "            's': 'int8'\n",
    "        })\n",
    "        trip_df.to_csv(os.path.join(vehicle_folder, f'trip_{i+1}.csv'), index=False)"
   ]
  },
  {
   "cell_type": "code",
   "execution_count": 7,
   "metadata": {},
   "outputs": [],
   "source": [
    "def process_vehicle_data(folder_path, output_folder):\n",
    "    # 遍历所有车辆文件\n",
    "    for file in Path(folder_path).glob('*.csv'):\n",
    "        # 读取数据\n",
    "        df = pd.read_csv(file)\n",
    "        vehicle_id = file.stem  # 从文件名获取车辆ID\n",
    "        \n",
    "        # 清洗数据\n",
    "        cleaned_df = clean_gps_data(df, file.name)\n",
    "\n",
    "        # 提取载客轨迹\n",
    "        trips = extract_trips(cleaned_df, vehicle_id)\n",
    "        \n",
    "        # 保存载客轨迹\n",
    "        save_trips(trips, output_folder, vehicle_id)"
   ]
  },
  {
   "cell_type": "code",
   "execution_count": 8,
   "metadata": {},
   "outputs": [],
   "source": [
    "# 进行异常点筛除并提取载客轨迹\n",
    "process_vehicle_data('./data/vehicles', './data/trips')"
   ]
  },
  {
   "cell_type": "markdown",
   "metadata": {},
   "source": [
    "## 三、出行记录清洗\n",
    "需要对提取出的出行记录中质量较差的轨迹进行筛除，标准如下：\n",
    "1. GPS点过少($<5$);\n",
    "2. 速度异常($>120km/h$);\n",
    "3. 距离过短($<500m$);"
   ]
  },
  {
   "cell_type": "code",
   "execution_count": 12,
   "metadata": {},
   "outputs": [],
   "source": [
    "import numpy as np"
   ]
  },
  {
   "cell_type": "code",
   "execution_count": 13,
   "metadata": {},
   "outputs": [],
   "source": [
    "def calculate_distance(lat1, lon1, lat2, lon2):\n",
    "    # 计算两个GPS点之间的距离（单位：米）\n",
    "    R = 6371000  # 地球半径，单位：米\n",
    "    dlat = np.radians(lat2 - lat1)\n",
    "    dlon = np.radians(lon2 - lon1)\n",
    "    a = (np.sin(dlat/2) * np.sin(dlat/2) +\n",
    "        np.cos(np.radians(lat1)) * np.cos(np.radians(lat2)) *\n",
    "        np.sin(dlon/2) * np.sin(dlon/2))\n",
    "    c = 2 * np.arctan2(np.sqrt(a), np.sqrt(1-a))\n",
    "    return R * c"
   ]
  },
  {
   "cell_type": "code",
   "execution_count": 15,
   "metadata": {},
   "outputs": [],
   "source": [
    "def clean_trip(trip):\n",
    "    if not isinstance(trip[0], (list, tuple)):\n",
    "        trip = [trip]\n",
    "    \n",
    "    # 规则1：GPS点过少\n",
    "    if len(trip) < 5:\n",
    "        return []\n",
    "    \n",
    "    # 计算每个点的速度\n",
    "    speeds = []\n",
    "    distances = []\n",
    "    for i in range(1, len(trip)):\n",
    "        # 确保每个点有5个值\n",
    "        if len(trip[i-1]) < 5 or len(trip[i]) < 5:\n",
    "            continue\n",
    "            \n",
    "        # 计算距离\n",
    "        dist = calculate_distance(\n",
    "            float(trip[i-1][2]), float(trip[i-1][1]),  # 前一点的纬度，经度\n",
    "            float(trip[i][2]), float(trip[i][1])       # 当前点的纬度，经度\n",
    "        )\n",
    "        distances.append(dist)\n",
    "        \n",
    "        # 计算时间差（秒）\n",
    "        time_diff = float(trip[i][3]) - float(trip[i-1][3])\n",
    "        if time_diff == 0:\n",
    "            speed = 0\n",
    "        else:\n",
    "            speed = dist / time_diff * 3.6  # 转换为km/h\n",
    "        \n",
    "        speeds.append(speed)\n",
    "    \n",
    "    # 规则2：速度异常\n",
    "    if any(s > 120 for s in speeds):\n",
    "        return []\n",
    "        \n",
    "    # 规则3：距离过短\n",
    "    total_distance = sum(distances)\n",
    "    if total_distance < 500:\n",
    "        return []\n",
    "        \n",
    "    # 通过所有检查，保留该轨迹\n",
    "    return trip"
   ]
  },
  {
   "cell_type": "code",
   "execution_count": 16,
   "metadata": {},
   "outputs": [],
   "source": [
    "def process_trips_folder(input_folder, output_folder):\n",
    "    total_trips = 0\n",
    "    removed_trips = 0\n",
    "    \n",
    "    # 创建输出文件夹\n",
    "    os.makedirs(output_folder, exist_ok=True)\n",
    "    \n",
    "    # 遍历所有车辆文件夹\n",
    "    for vehicle_dir in Path(input_folder).iterdir():\n",
    "        if not vehicle_dir.is_dir():\n",
    "            continue\n",
    "            \n",
    "        # 创建对应的输出文件夹\n",
    "        cleaned_vehicle_dir = os.path.join(output_folder, vehicle_dir.name)\n",
    "        os.makedirs(cleaned_vehicle_dir, exist_ok=True)\n",
    "        \n",
    "        # 遍历每个轨迹文件\n",
    "        for trip_file in vehicle_dir.glob('*.csv'):\n",
    "            total_trips += 1\n",
    "            \n",
    "            # 读取数据\n",
    "            df = pd.read_csv(trip_file)\n",
    "            \n",
    "            # 清洗数据\n",
    "            cleaned_trip = clean_trip(df.values.tolist())\n",
    "            \n",
    "            if len(cleaned_trip) == 0:\n",
    "                removed_trips += 1\n",
    "                continue\n",
    "                \n",
    "            # 保存清洗后的数据\n",
    "            cleaned_df = pd.DataFrame(cleaned_trip, columns=['id', 'x', 'y', 't', 's'])\n",
    "            output_path = os.path.join(cleaned_vehicle_dir, trip_file.name)\n",
    "            cleaned_df.to_csv(output_path, index=False)\n",
    "    \n",
    "    # 计算统计信息\n",
    "    removal_rate = removed_trips / total_trips if total_trips > 0 else 0\n",
    "    \n",
    "    print(f\"总轨迹数: {total_trips}\")\n",
    "    print(f\"删除轨迹数: {removed_trips}\")\n",
    "    print(f\"删除比例: {removal_rate:.2%}\")"
   ]
  },
  {
   "cell_type": "code",
   "execution_count": 17,
   "metadata": {},
   "outputs": [
    {
     "name": "stdout",
     "output_type": "stream",
     "text": [
      "总轨迹数: 115564\n",
      "删除轨迹数: 23272\n",
      "删除比例: 20.14%\n"
     ]
    }
   ],
   "source": [
    "input_folder = './data/trips'\n",
    "output_folder = './data/cleaned_trips'\n",
    "process_trips_folder(input_folder, output_folder)"
   ]
  },
  {
   "cell_type": "code",
   "execution_count": null,
   "metadata": {},
   "outputs": [],
   "source": [
    "def reorganize_trips(input_folder, output_folder):\n",
    "    trip_counter = 1  # 用于连续编号\n",
    "    \n",
    "    # 创建输出文件夹\n",
    "    os.makedirs(output_folder, exist_ok=True)\n",
    "    \n",
    "    # 遍历所有车辆文件夹\n",
    "    for vehicle_dir in Path(input_folder).iterdir():\n",
    "        if not vehicle_dir.is_dir():\n",
    "            continue\n",
    "            \n",
    "        # 遍历每个轨迹文件\n",
    "        for trip_file in vehicle_dir.glob('*.csv'):\n",
    "            # 读取数据\n",
    "            df = pd.read_csv(trip_file)\n",
    "            \n",
    "            # 保存到新的文件\n",
    "            output_path = os.path.join(output_folder, f'trip_{trip_counter}.csv')\n",
    "            df.to_csv(output_path, index=False)\n",
    "            trip_counter += 1\n",
    "    \n",
    "input_folder = './data/cleaned_trips'\n",
    "output_folder = './data/cleaned_trips_combined'\n",
    "reorganize_trips(input_folder, output_folder)"
   ]
  },
  {
   "cell_type": "markdown",
   "metadata": {},
   "source": [
    "## 四、源数据提取\n",
    "暂且不关注出租车的行驶轨迹，仅关心人群的出行行为，将出行记录简化为1个5元组$<x_o, y_o, x_d, y_d, d>$表示，其中:\n",
    "* $x_o, y_o$: 分别表示起点的经纬度;\n",
    "* $x_d, y_d$: 分别表示终点的经纬度;\n",
    "* $d$: 表示行程距离;"
   ]
  },
  {
   "cell_type": "code",
   "execution_count": 14,
   "metadata": {},
   "outputs": [],
   "source": [
    "def simplify_trip(trip):\n",
    "    if len(trip) < 2:\n",
    "        return None\n",
    "        \n",
    "    # 获取起点和终点\n",
    "    start_point = trip[0]\n",
    "    end_point = trip[-1]\n",
    "    \n",
    "    # 计算总距离\n",
    "    total_distance = 0\n",
    "    for i in range(1, len(trip)):\n",
    "        total_distance += calculate_distance(\n",
    "            trip[i-1][2], trip[i-1][1],  # 前一点的纬度，经度\n",
    "            trip[i][2], trip[i][1]       # 当前点的纬度，经度\n",
    "        )\n",
    "    \n",
    "    return [\n",
    "        start_point[1],  # x_o\n",
    "        start_point[2],  # y_o\n",
    "        end_point[1],    # x_d\n",
    "        end_point[2],    # y_d\n",
    "        total_distance   # d\n",
    "    ]"
   ]
  },
  {
   "cell_type": "code",
   "execution_count": 15,
   "metadata": {},
   "outputs": [],
   "source": [
    "def process_simplified_trips(input_folder, output_folder):\n",
    "    # 创建输出文件夹\n",
    "    os.makedirs(output_folder, exist_ok=True)\n",
    "    \n",
    "    # 初始化统计\n",
    "    total_trips = 0\n",
    "    simplified_trips = []\n",
    "    \n",
    "    # 遍历所有轨迹文件\n",
    "    for trip_file in Path(input_folder).glob('*.csv'):\n",
    "        total_trips += 1\n",
    "        \n",
    "        # 读取数据\n",
    "        df = pd.read_csv(trip_file)\n",
    "        trip_data = df.values.tolist()\n",
    "        \n",
    "        # 简化出行记录\n",
    "        simplified_trip = simplify_trip(trip_data)\n",
    "        if simplified_trip:\n",
    "            simplified_trips.append(simplified_trip)\n",
    "    \n",
    "    # 保存简化后的数据\n",
    "    simplified_df = pd.DataFrame(\n",
    "        simplified_trips,\n",
    "        columns=['x_o', 'y_o', 'x_d', 'y_d', 'd']\n",
    "    )\n",
    "    output_path = os.path.join(output_folder, 'simplified_trips.csv')\n",
    "    simplified_df.to_csv(output_path, index=False)\n",
    "    \n",
    "    print(f\"成功简化了 {len(simplified_trips)} 个出行记录\")\n",
    "    print(f\"简化后的数据已保存到 {output_path}\")"
   ]
  },
  {
   "cell_type": "code",
   "execution_count": 16,
   "metadata": {},
   "outputs": [
    {
     "name": "stdout",
     "output_type": "stream",
     "text": [
      "成功简化了 92292 个出行记录\n",
      "简化后的数据已保存到 ./data/simplified_trips/simplified_trips.csv\n"
     ]
    }
   ],
   "source": [
    "input_folder = './data/cleaned_trips_combined'\n",
    "output_folder = './data/simplified_trips'\n",
    "process_simplified_trips(input_folder, output_folder)"
   ]
  }
 ],
 "metadata": {
  "kernelspec": {
   "display_name": "taxi",
   "language": "python",
   "name": "python3"
  },
  "language_info": {
   "codemirror_mode": {
    "name": "ipython",
    "version": 3
   },
   "file_extension": ".py",
   "mimetype": "text/x-python",
   "name": "python",
   "nbconvert_exporter": "python",
   "pygments_lexer": "ipython3",
   "version": "3.10.16"
  }
 },
 "nbformat": 4,
 "nbformat_minor": 2
}
