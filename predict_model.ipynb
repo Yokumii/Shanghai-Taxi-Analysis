{
 "cells": [
  {
   "cell_type": "markdown",
   "metadata": {
    "vscode": {
     "languageId": "plaintext"
    }
   },
   "source": [
    "## 一、区域人口计算\n",
    "城市地区的人口流动性较强，难以直接获得某一个特定较小区域内的人口数，并且常住人口分布难以体现城市的人口流动性。所以，我们尝试将到达一个区域的行程次数视为该区域的人口（可以理解为该城市某一特定区域实际的平均每日人口），它与实际的平均每日人口大致成正比$^{[1]}$。它可能能较好的反应该区域的活动强度。\n",
    "\n",
    "[1] Liang Xiao, Zhao Jichang, Dong Li and Xu Ke. 2013. Unraveling the Origin of Exponential Law in Intra-Urban Human Mobility. Scientific Reports, 3: 2983."
   ]
  },
  {
   "cell_type": "markdown",
   "metadata": {},
   "source": [
    "## 二、出行流量预测\n",
    "\n",
    "### 2.1 模型假设\n",
    "首先我们作出如下假设：\n",
    "* 某人到达某个区域的概率与该区域的人口密度呈正相关；\n",
    "* 某人到达某个区域的概率与该区域与起始区域之间的欧几里得距离呈负相关；\n",
    "又因为我们将区域划分为1km * 1km的区域，所以我们直接用某一区域的人口数作为该区域的人口密度；即：\n",
    "$$\n",
    "P(j | i) \\propto \\frac{P(j)}{f(d_{ij})}\n",
    "$$\n",
    "其中：\n",
    "* $P(j | i)$表示人在位于区域i的条件下前往区域j的概率；（条件概率）\n",
    "* $P(j)$表示区域i的人口数（Population）；\n",
    "* $f(d_{ij})$表示区域i和区域j之间的距离函数，即距离衰减函数。比如$f(d) = d^\\sigma$，其中$\\sigma$控制距离的影响程度；\n",
    "\n",
    "则：\n",
    "$$\n",
    "P(i \\rightarrow j) = P(ij) = P_{norm}(i) \\cdot P(j | i) = P_{norm}(i) \\cdot \\frac{\\frac{P(j)}{f(d_{ij})}}{M(i)}\n",
    "$$\n",
    "\n"
   ]
  },
  {
   "cell_type": "markdown",
   "metadata": {},
   "source": [
    "### 2.2 关于$P_{norm}$\n",
    "$P_{norm}(i)$表示从区域i发起行程的可能性：\n",
    "$$\n",
    "P_{norm}(i) = \\frac{O(i)}{\\sum_k O(k)}\n",
    "$$\n",
    "其中：\n",
    "* $O(i)$表示区域i的出发次数；\n",
    "* $\\sum_k O(k)$表示所有区域出发次数的总和；\n",
    "\n",
    "它将出行次数标准化为概率分布，即：\n",
    "$$\n",
    "\\sum_i P_{norm}(i) = 1\n",
    "$$"
   ]
  },
  {
   "cell_type": "markdown",
   "metadata": {},
   "source": [
    "### 2.3 关于$M(i)$\n",
    "$M(i)$的作用也是将从区域i出发前往其他区域的概率归一化：\n",
    "$$\n",
    "M(i) = \\sum_{k \\ne i} \\frac{P(k)}{f(d_{ik})}\n",
    "$$\n",
    "其中：\n",
    "* $P(k)$表示区域k作为目的地的到达次数；\n",
    "* $f(d_{ik})$为区域i和k之间距离的函数；\n",
    "\n",
    "不难推出：\n",
    "$$\n",
    "\\sum_{j \\ne i} \\frac{\\frac{P(j)}{f(d_{ij})}}{M(i)} = 1\n",
    "$$"
   ]
  },
  {
   "cell_type": "markdown",
   "metadata": {},
   "source": [
    "### 2.4 关于距离衰减函数\n",
    "如果距离衰减函数用幂律形式$f(d) = d^\\sigma$，则：\n",
    "* 当$\\sigma > 0$时，前往某区域的概率会被距离抑制；\n",
    "* 当$\\sigma = 0$时，所有区域的吸引力完全由该地的人口数决定；\n",
    "\n",
    "关于如何确定$\\sigma$，可以用最大似然估计等进行参数优化。"
   ]
  },
  {
   "cell_type": "markdown",
   "metadata": {},
   "source": [
    "### 2.5 出行流量预测模型\n",
    "\n",
    "于是，我们给出完整的出行流量预测模型如下：\n",
    "$$\n",
    "<T_{ij}> = \\frac{T}{M(i)} \\cdot \\frac{P_{norm}(i)\\cdot P(j)}{f(d_{ij})}\n",
    "$$\n",
    "\n",
    "其中：\n",
    "* $<T_{ij}>$表示从区域i到j的出行预测次数；\n",
    "* $T$表示行程总数；"
   ]
  },
  {
   "cell_type": "markdown",
   "metadata": {},
   "source": [
    "### 2.6 参数优化\n",
    "对于如何确定$\\sigma$，我们使用最大似然估计MLE来进行。\n",
    "\n",
    "#### 2.6.1 基本假设\n",
    "将城市中的出行活动视为概率事件：\n",
    "1. 每个出行记录的生成是独立事件（i.e., 出行之间无相关性）；\n",
    "2. 每个出行的目标选择是一个多类别随机过程：从任一区域 $i$ 出发到其他区域 $j \\neq i$ 的概率由模型给出；\n",
    "3. 整体出行行为遵循多项式分布；\n",
    "\n",
    "在此假设下，总出行量 $T = \\sum_{i,j} T_{ij}$ 是固定的，人从出发地到目的地的分配可看作将 $T$ 次“试验”分配至不同的路径 $i \\to j$。"
   ]
  },
  {
   "cell_type": "markdown",
   "metadata": {},
   "source": [
    "#### 2.6.2 似然函数：\n",
    "对于 $T$ 次独立试验，若：\n",
    "* 从 $i$ 到 $j$ 的路径被选择的概率为 $p_{ij} = \\frac{\\langle T_{ij} \\rangle}{T}$（由模型预测）；\n",
    "* 实际观测到 $i \\to j$ 的出行次数为 $T_{ij}$；\n",
    "\n",
    "则似然函数为：\n",
    "$$\n",
    "\\mathcal{L} = \\frac{T!}{\\prod_{i,j} T_{ij}!} \\prod_{i,j} \\left( p_{ij} \\right)^{T_{ij}}\n",
    "$$\n",
    "\n",
    "其中：\n",
    "* $\\prod_{i,j} \\left( p_{ij} \\right)^{T_{ij}}$ 表示每条路径的概率的幂次乘积；\n",
    "* $\\frac{T!}{\\prod_{i,j} T_{ij}!}$ 是组合数（反映不同路径次数分配的可能排列方式）；\n",
    "\n",
    "由于组合数 $\\frac{T!}{\\prod_{i,j} T_{ij}!}$ 是常数（与参数 $\\sigma$ 无关），因此在最大化似然时可忽略。简化后的目标函数为：\n",
    "$$\n",
    "\\mathcal{L} \\propto \\prod_{i,j} \\left( p_{ij} \\right)^{T_{ij}} = \\prod_{i,j} \\left( \\frac{\\langle T_{ij} \\rangle}{T} \\right)^{T_{ij}}.\n",
    "$$"
   ]
  },
  {
   "cell_type": "markdown",
   "metadata": {},
   "source": [
    "#### 2.6.3 负对数似然转化\n",
    "实际计算时，通常优化负对数似然（NLL），因为乘积转换为求和更易处理，且可避免极小数值的浮点溢出：\n",
    "$$\n",
    "-\\ln \\mathcal{L} = \\text{常数} - \\sum_{i,j} T_{ij} \\ln \\langle T_{ij} \\rangle.\n",
    "$$\n",
    "进一步忽略常数项后，优化问题简化为：\n",
    "$$\n",
    "\\sigma_{\\text{opt}} = \\arg \\min_{\\sigma} \\left( -\\sum_{i,j} T_{ij} \\ln \\langle T_{ij} \\rangle \\right).\n",
    "$$"
   ]
  },
  {
   "cell_type": "markdown",
   "metadata": {},
   "source": [
    "## 三、实验过程"
   ]
  },
  {
   "cell_type": "markdown",
   "metadata": {},
   "source": [
    "### 3.1 出行记录与网格匹配"
   ]
  },
  {
   "cell_type": "code",
   "execution_count": 1,
   "metadata": {},
   "outputs": [],
   "source": [
    "# 相关包的导入\n",
    "import os\n",
    "import numpy as np\n",
    "import pandas as pd\n",
    "import matplotlib.pyplot as plt\n",
    "import seaborn as sns\n",
    "import geopandas as gpd\n",
    "from shapely.geometry import Point, box"
   ]
  },
  {
   "cell_type": "code",
   "execution_count": 2,
   "metadata": {},
   "outputs": [],
   "source": [
    "# 读取网格数据\n",
    "grids = pd.read_csv('./data/grid/shanghai_grid_wgs84.csv')\n",
    "\n",
    "# 读取行程数据\n",
    "trips = pd.read_csv('./data/simplified_trips/simplified_trips.csv')"
   ]
  },
  {
   "cell_type": "code",
   "execution_count": 3,
   "metadata": {},
   "outputs": [],
   "source": [
    "# 将行程数据转换为GeoDataFrame\n",
    "trips['origin_point'] = trips.apply(lambda row: Point(row['x_o'], row['y_o']), axis=1)\n",
    "trips['dest_point'] = trips.apply(lambda row: Point(row['x_d'], row['y_d']), axis=1)\n",
    "trips_gdf = gpd.GeoDataFrame(trips, geometry='origin_point', crs=\"EPSG:4326\")\n",
    "\n",
    "# 将网格数据转换为GeoDataFrame\n",
    "grids['geometry'] = grids.apply(lambda row: box(row['min_x'], row['min_y'], \n",
    "                              row['max_x'], row['max_y']), axis=1)\n",
    "grids_gdf = gpd.GeoDataFrame(grids, geometry='geometry', crs=\"EPSG:4326\")"
   ]
  },
  {
   "cell_type": "code",
   "execution_count": 4,
   "metadata": {},
   "outputs": [],
   "source": [
    "# 创建空间索引\n",
    "grids_gdf.sindex\n",
    "\n",
    "trips_gdf['trip_id'] = range(len(trips_gdf))\n",
    "\n",
    "# 进行起点连接\n",
    "origin_joined = gpd.sjoin(trips_gdf, grids_gdf, how='inner', \n",
    "                         predicate='within', lsuffix='', rsuffix='_origin')\n",
    "origin_joined = origin_joined.rename(columns={'grid_id': 'origin_grid'})\n",
    "\n",
    "# 进行终点连接\n",
    "dest_joined = gpd.sjoin(trips_gdf.set_geometry('dest_point', crs=\"EPSG:4326\"), \n",
    "                       grids_gdf, how='inner', predicate='within', \n",
    "                       lsuffix='', rsuffix='_dest')\n",
    "dest_joined = dest_joined.rename(columns={'grid_id': 'dest_grid'})"
   ]
  },
  {
   "cell_type": "code",
   "execution_count": 5,
   "metadata": {},
   "outputs": [],
   "source": [
    "# 使用trip_id进行合并\n",
    "filtered_trips = pd.merge(\n",
    "    origin_joined[['trip_id', 'origin_grid']],\n",
    "    dest_joined[['trip_id', 'dest_grid']],\n",
    "    on='trip_id',\n",
    "    how='inner'\n",
    ")\n",
    "\n",
    "# 将网格信息合并回原始数据\n",
    "final_trips = pd.merge(\n",
    "    trips_gdf,\n",
    "    filtered_trips,\n",
    "    on='trip_id',\n",
    "    how='inner'\n",
    ")\n",
    "\n",
    "# 清理不需要的列\n",
    "final_trips = final_trips[[\n",
    "    'x_o', 'y_o', 'x_d', 'y_d', 'd', \n",
    "    'origin_grid', 'dest_grid'\n",
    "]]"
   ]
  },
  {
   "cell_type": "code",
   "execution_count": 6,
   "metadata": {},
   "outputs": [
    {
     "name": "stdout",
     "output_type": "stream",
     "text": [
      "已保存过滤后的轨迹数据到：data/simplified_trips/filtered_trips_with_grid.csv\n",
      "已保存网格使用情况数据到：data/grid/grid_usage_statistics.csv\n"
     ]
    }
   ],
   "source": [
    "# 保存过滤后的轨迹数据\n",
    "final_trips.to_csv('data/simplified_trips/filtered_trips_with_grid.csv', index=False)\n",
    "\n",
    "# 获取所有网格ID\n",
    "all_grids = grids_gdf['grid_id'].unique()\n",
    "\n",
    "# 创建包含所有网格的DataFrame\n",
    "all_grids_df = pd.DataFrame({'grid_id': all_grids})\n",
    "\n",
    "# 统计网格使用情况\n",
    "origin_counts = final_trips['origin_grid'].value_counts().reset_index()\n",
    "origin_counts.columns = ['grid_id', 'origin_count']\n",
    "\n",
    "dest_counts = final_trips['dest_grid'].value_counts().reset_index()\n",
    "dest_counts.columns = ['grid_id', 'dest_count']\n",
    "\n",
    "# 合并统计结果，保留所有网格\n",
    "grid_stats = all_grids_df.merge(\n",
    "    origin_counts, on='grid_id', how='left'\n",
    ").merge(\n",
    "    dest_counts, on='grid_id', how='left'\n",
    ").fillna(0)\n",
    "\n",
    "# 保存网格使用情况数据\n",
    "grid_stats.to_csv('data/grid/grid_usage_statistics.csv', index=False)\n",
    "\n",
    "# 打印保存信息\n",
    "print(\"已保存过滤后的轨迹数据到：data/simplified_trips/filtered_trips_with_grid.csv\")\n",
    "print(\"已保存网格使用情况数据到：data/grid/grid_usage_statistics.csv\")"
   ]
  },
  {
   "cell_type": "code",
   "execution_count": 7,
   "metadata": {},
   "outputs": [
    {
     "name": "stdout",
     "output_type": "stream",
     "text": [
      "网格使用情况统计（前10行）：\n",
      "   grid_id  origin_count  dest_count\n",
      "0     6251           0.0         0.0\n",
      "1     5852           0.0         0.0\n",
      "2     6118           0.0         0.0\n",
      "3     5985           0.0         0.0\n",
      "4     5986           0.0         0.0\n",
      "5     5853           0.0         0.0\n",
      "6     6252           0.0         0.0\n",
      "7     6119           0.0         0.0\n",
      "8     5854           0.0         0.0\n",
      "9     5987           0.0         0.0\n",
      "\n",
      "统计结果验证：\n",
      "总起点次数: 92002.0\n",
      "总终点次数: 92002.0\n",
      "起点次数最多的网格: grid_id         5909.0\n",
      "origin_count    1530.0\n",
      "dest_count      2382.0\n",
      "Name: 3440, dtype: float64\n",
      "终点次数最多的网格: grid_id         5909.0\n",
      "origin_count    1530.0\n",
      "dest_count      2382.0\n",
      "Name: 3440, dtype: float64\n"
     ]
    }
   ],
   "source": [
    "# 打印部分统计结果\n",
    "print(\"网格使用情况统计（前10行）：\")\n",
    "print(grid_stats.head(10))\n",
    "\n",
    "# 检查统计结果\n",
    "print(\"\\n统计结果验证：\")\n",
    "print(f\"总起点次数: {grid_stats['origin_count'].sum()}\")\n",
    "print(f\"总终点次数: {grid_stats['dest_count'].sum()}\")\n",
    "print(f\"起点次数最多的网格: {grid_stats.loc[grid_stats['origin_count'].idxmax()]}\")\n",
    "print(f\"终点次数最多的网格: {grid_stats.loc[grid_stats['dest_count'].idxmax()]}\")"
   ]
  },
  {
   "cell_type": "code",
   "execution_count": 8,
   "metadata": {},
   "outputs": [
    {
     "name": "stdout",
     "output_type": "stream",
     "text": [
      "原始数据行数: 92292\n",
      "过滤后数据行数: 92002\n",
      "被过滤掉的数据行数: 290\n",
      "数据保留率: 99.69%\n"
     ]
    }
   ],
   "source": [
    "# 统计结果\n",
    "original_count = len(trips_gdf)\n",
    "filtered_count = len(final_trips)\n",
    "removed_count = original_count - filtered_count\n",
    "retention_rate = filtered_count / original_count * 100\n",
    "\n",
    "print(f\"原始数据行数: {original_count}\")\n",
    "print(f\"过滤后数据行数: {filtered_count}\")\n",
    "print(f\"被过滤掉的数据行数: {removed_count}\")\n",
    "print(f\"数据保留率: {retention_rate:.2f}%\")"
   ]
  },
  {
   "cell_type": "markdown",
   "metadata": {},
   "source": [
    "### 3.2 数据填补\n",
    "我们将上一步处理后得到的数据进行可视化呈现，使用到达次数（dest_count）作为热度图的值。"
   ]
  },
  {
   "cell_type": "code",
   "execution_count": 9,
   "metadata": {},
   "outputs": [],
   "source": [
    "import numpy as np\n",
    "import branca.colormap as cm\n",
    "import folium"
   ]
  },
  {
   "cell_type": "code",
   "execution_count": 10,
   "metadata": {},
   "outputs": [],
   "source": [
    "# 创建对数颜色映射\n",
    "max_dest = grid_stats['dest_count'].max()\n",
    "log_norm = cm.LinearColormap(\n",
    "    ['yellow', 'orange', 'red'],\n",
    "    vmin=-1,\n",
    "    vmax=np.log1p(max_dest)  # 使用log1p避免log(0)\n",
    ").to_step(10)"
   ]
  },
  {
   "cell_type": "code",
   "execution_count": 11,
   "metadata": {},
   "outputs": [
    {
     "name": "stdout",
     "output_type": "stream",
     "text": [
      "网格热度图已保存到：data/visualization/grid_heatmap.html\n",
      "请在浏览器中打开该文件查看结果\n"
     ]
    }
   ],
   "source": [
    "# 创建基础地图\n",
    "shanghai_center = [31.2304, 121.4737]\n",
    "m1 = folium.Map(location=shanghai_center, zoom_start=11)\n",
    "\n",
    "# 添加网格和热度\n",
    "for _, grid in grid_stats.iterrows():\n",
    "    # 获取网格边界\n",
    "    grid_info = grids_gdf.loc[grids_gdf['grid_id'] == grid['grid_id']]\n",
    "    min_y = float(grid_info['min_y'].values[0])\n",
    "    max_y = float(grid_info['max_y'].values[0])\n",
    "    min_x = float(grid_info['min_x'].values[0])\n",
    "    max_x = float(grid_info['max_x'].values[0])\n",
    "    \n",
    "    bounds = [(min_y, min_x), (max_y, max_x)]\n",
    "    \n",
    "    # 计算颜色\n",
    "    dest_count = grid['dest_count']\n",
    "    color = log_norm(np.log1p(dest_count))\n",
    "    \n",
    "    # 创建矩形\n",
    "    folium.Rectangle(\n",
    "        bounds=bounds,\n",
    "        color=color,\n",
    "        fill=True,\n",
    "        fill_color=color,\n",
    "        fill_opacity=0.6,\n",
    "        weight=1,\n",
    "        tooltip=f\"ID: {grid['grid_id']}, Destination: {dest_count}\"\n",
    "    ).add_to(m1)\n",
    "\n",
    "# 添加颜色图例\n",
    "log_norm.caption = 'Destination Count (log scale)'\n",
    "m1.add_child(log_norm)\n",
    "\n",
    "# 保存地图\n",
    "m1.save('data/visualization/grid_heatmap.html')\n",
    "\n",
    "print(\"网格热度图已保存到：data/visualization/grid_heatmap.html\")\n",
    "print(\"请在浏览器中打开该文件查看结果\")"
   ]
  },
  {
   "cell_type": "markdown",
   "metadata": {},
   "source": [
    "其中，到达次数为0的网格没有被绘制，结果如下图所示：\n",
    "![上海市热力图](./data/visualization/grid_heatmap.png)"
   ]
  },
  {
   "cell_type": "markdown",
   "metadata": {},
   "source": [
    "网格出行次数和到达次数的分布如下："
   ]
  },
  {
   "cell_type": "code",
   "execution_count": 12,
   "metadata": {},
   "outputs": [
    {
     "data": {
      "image/png": "[encoded data removed]",
      "text/plain": [
       "<Figure size 1500x600 with 2 Axes>"
      ]
     },
     "metadata": {},
     "output_type": "display_data"
    },
    {
     "name": "stdout",
     "output_type": "stream",
     "text": [
      "出行和到达次数分布图已保存到：data/grid/trip_distribution.png\n"
     ]
    }
   ],
   "source": [
    "import matplotlib.pyplot as plt\n",
    "\n",
    "# 创建画布\n",
    "fig, (ax1, ax2) = plt.subplots(1, 2, figsize=(15, 6))\n",
    "\n",
    "# 出行次数分布\n",
    "ax1.hist(grid_stats['origin_count'], bins=50, color='blue', alpha=0.7)\n",
    "ax1.set_title('Origin Count Distribution')\n",
    "ax1.set_xlabel('Number of Trips Starting')\n",
    "ax1.set_ylabel('Number of Grids')\n",
    "ax1.set_yscale('log')  # 使用对数y轴\n",
    "ax1.grid(True, which=\"both\", ls=\"-\", alpha=0.2)\n",
    "\n",
    "# 到达次数分布\n",
    "ax2.hist(grid_stats['dest_count'], bins=50, color='red', alpha=0.7)\n",
    "ax2.set_title('Destination Count Distribution')\n",
    "ax2.set_xlabel('Number of Trips Ending')\n",
    "ax2.set_ylabel('Number of Grids')\n",
    "ax2.set_yscale('log')  # 使用对数y轴\n",
    "ax2.grid(True, which=\"both\", ls=\"-\", alpha=0.2)\n",
    "\n",
    "# 调整布局\n",
    "plt.tight_layout()\n",
    "\n",
    "# 保存图像\n",
    "plt.savefig('data/visualization/trip_distribution.png', dpi=300, bbox_inches='tight')\n",
    "\n",
    "# 显示图像\n",
    "plt.show()\n",
    "\n",
    "print(\"出行和到达次数分布图已保存到：data/grid/trip_distribution.png\")"
   ]
  },
  {
   "cell_type": "markdown",
   "metadata": {},
   "source": [
    "可以发现出租车单日轨迹数据的一大问题：数据往往仅覆盖部分区域（如市中心区域、交通枢纽等），导致空间划分的1km网格中部分网格无法被数据覆盖。直接忽略这些区域的流量会导致结果不完整，甚至扭曲对城市空间结构的理解（如低估偏远区域的出行需求）。\n",
    "\n",
    "为了解决该问题，我们提出数据填补模型如下：\n",
    "1. 赋予每个网格一个默认的“潜在出行”权重：对于未被出租车覆盖的网格（无数据），假设其出行活动依赖于邻近的空间关系；\n",
    "2. 构建8-邻域关系：每个网格与其周围的8个邻域网格（上下左右及对角线方向）建立连接，每一对邻接的网格被赋予一个默认权重 0.125；\n",
    "3. 总默认权重的平衡：每个网格会向其8个邻域各分配 0.125，最终每个网格的权重总和增加 1（等效于每个网格默认存在至少“1次潜在出行”）；\n",
    "\n",
    "该模型可以表示为：\n",
    "$$\n",
    "\\langle T_{ij} \\rangle = \\underbrace{\\alpha \\cdot T_{ij}^{\\text{观测}}}_{\\text{数据驱动部分}} + \\underbrace{(1-\\alpha) \\cdot 0.125}_{\\text{邻域填补部分}}\n",
    "$$\n",
    "此处$\\alpha$为数据覆盖度权重参数：\n",
    "* 当网格有出租车数据：$\\alpha=1$，模型结果由实际数据主导；\n",
    "* 当网格无出租车数据：$\\alpha=0$，模型完全依赖邻域填补的0.125权重；\n",
    "\n",
    "<!-- 我们基于数据分布特性设定动态调整参数 $\\alpha$：\n",
    "$$\n",
    "\\alpha = \\min\\left( \\frac{n}{n_{\\text{阈值}}} , 1 \\right)\n",
    "$$\n",
    "其中，$n$为某网格的出行/到达次数。 -->"
   ]
  },
  {
   "cell_type": "markdown",
   "metadata": {},
   "source": [
    "<!-- 关于阈值的确定，我们先观察数据分布的统计量： -->"
   ]
  },
  {
   "cell_type": "code",
   "execution_count": 13,
   "metadata": {},
   "outputs": [],
   "source": [
    "# # 计算出行次数的统计量\n",
    "# origin_stats = {\n",
    "#     'mean': grid_stats['origin_count'].mean(),\n",
    "#     '25%': grid_stats['origin_count'].quantile(0.25),\n",
    "#     '50%': grid_stats['origin_count'].quantile(0.5),  # 中位数\n",
    "#     '75%': grid_stats['origin_count'].quantile(0.75),\n",
    "#     '95%': grid_stats['origin_count'].quantile(0.95),\n",
    "#     'max': grid_stats['origin_count'].max()\n",
    "# }\n",
    "\n",
    "# # 计算到达次数的统计量\n",
    "# dest_stats = {\n",
    "#     'mean': grid_stats['dest_count'].mean(),\n",
    "#     '25%': grid_stats['dest_count'].quantile(0.25),\n",
    "#     '50%': grid_stats['dest_count'].quantile(0.5),  # 中位数\n",
    "#     '75%': grid_stats['dest_count'].quantile(0.75),\n",
    "#     '95%': grid_stats['dest_count'].quantile(0.95),\n",
    "#     'max': grid_stats['dest_count'].max()\n",
    "# }\n",
    "\n",
    "# # 打印结果\n",
    "# print(\"出行次数统计：\")\n",
    "# for key, value in origin_stats.items():\n",
    "#     print(f\"{key}: {value:.2f}\")\n",
    "\n",
    "# print(\"\\n到达次数统计：\")\n",
    "# for key, value in dest_stats.items():\n",
    "#     print(f\"{key}: {value:.2f}\")\n",
    "\n",
    "# # 保存结果到文件\n",
    "# stats_df = pd.DataFrame({\n",
    "#     'origin_count': origin_stats,\n",
    "#     'dest_count': dest_stats\n",
    "# })\n",
    "# stats_df.to_csv('data/grid/trip_statistics.csv', index=True)\n",
    "\n",
    "# print(\"\\n统计结果已保存到：data/grid/trip_statistics.csv\")"
   ]
  },
  {
   "cell_type": "code",
   "execution_count": 14,
   "metadata": {},
   "outputs": [],
   "source": [
    "import numpy as np\n"
   ]
  },
  {
   "cell_type": "markdown",
   "metadata": {},
   "source": [
    "<!-- 我们选择$n_{\\text{阈值}} = 3$ -->"
   ]
  },
  {
   "cell_type": "code",
   "execution_count": 15,
   "metadata": {},
   "outputs": [],
   "source": [
    "def get_neighbor_grids(grid_id):\n",
    "    \"\"\"根据网格ID获取8邻域网格\"\"\"\n",
    "    neighbors = []\n",
    "    \n",
    "    # 8邻域方向\n",
    "    directions = [(-133,1), (0,1), (133,1),\n",
    "                 (-133,0),          (133,0),\n",
    "                 (-133,-1),  (0,-1), (133,-1)]\n",
    "    \n",
    "    for dx, dy in directions:\n",
    "        neighbor_id = grid_id + dx + dy\n",
    "        neighbors.append(neighbor_id)\n",
    "    \n",
    "    return neighbors"
   ]
  },
  {
   "cell_type": "code",
   "execution_count": 16,
   "metadata": {},
   "outputs": [],
   "source": [
    "def fill_missing_data(grid_stats):\n",
    "    \"\"\"实现数据填补\"\"\"\n",
    "    # 初始化填补后的数据\n",
    "    filled_data = grid_stats.copy()\n",
    "    \n",
    "    # 添加新列\n",
    "    filled_data['filled_origin'] = 0.0\n",
    "    filled_data['filled_dest'] = 0.0\n",
    "    \n",
    "    # 遍历所有网格\n",
    "    for grid_id in filled_data['grid_id']:\n",
    "        # 获取当前网格的观测值\n",
    "        origin_obs = filled_data.loc[filled_data['grid_id'] == grid_id, 'origin_count'].values[0]\n",
    "        dest_obs = filled_data.loc[filled_data['grid_id'] == grid_id, 'dest_count'].values[0]\n",
    "        \n",
    "        # 计算α\n",
    "        alpha_origin = 1.0 if origin_obs > 0 else 0.0\n",
    "        alpha_dest = 1.0 if dest_obs > 0 else 0.0\n",
    "        \n",
    "        # 数据驱动部分\n",
    "        data_driven_origin = alpha_origin * origin_obs\n",
    "        data_driven_dest = alpha_dest * dest_obs\n",
    "        \n",
    "        # 邻域填补部分\n",
    "        neighbor_fill_origin = 0.0\n",
    "        neighbor_fill_dest = 0.0\n",
    "        \n",
    "        # 获取邻域网格\n",
    "        neighbors = get_neighbor_grids(grid_id)\n",
    "        for neighbor_id in neighbors:\n",
    "            if neighbor_id in filled_data['grid_id'].values:\n",
    "                neighbor_origin = filled_data.loc[filled_data['grid_id'] == neighbor_id, 'origin_count'].values[0]\n",
    "                neighbor_dest = filled_data.loc[filled_data['grid_id'] == neighbor_id, 'dest_count'].values[0]\n",
    "                \n",
    "                neighbor_fill_origin += 0.125 * (1 - alpha_origin) * neighbor_origin\n",
    "                neighbor_fill_dest += 0.125 * (1 - alpha_dest) * neighbor_dest\n",
    "        \n",
    "        # 计算填补后的值\n",
    "        filled_data.loc[filled_data['grid_id'] == grid_id, 'filled_origin'] = data_driven_origin + neighbor_fill_origin\n",
    "        filled_data.loc[filled_data['grid_id'] == grid_id, 'filled_dest'] = data_driven_dest + neighbor_fill_dest\n",
    "    \n",
    "    return filled_data"
   ]
  },
  {
   "cell_type": "code",
   "execution_count": 17,
   "metadata": {},
   "outputs": [
    {
     "name": "stdout",
     "output_type": "stream",
     "text": [
      "数据填补已完成，结果保存到：data/grid/filled_grid_stats.csv\n"
     ]
    }
   ],
   "source": [
    "# 应用填补模型\n",
    "filled_stats = fill_missing_data(grid_stats)\n",
    "\n",
    "# 保存结果\n",
    "filled_stats.to_csv('data/grid/filled_grid_stats.csv', index=False)\n",
    "\n",
    "print(\"数据填补已完成，结果保存到：data/grid/filled_grid_stats.csv\")"
   ]
  },
  {
   "cell_type": "code",
   "execution_count": 18,
   "metadata": {},
   "outputs": [],
   "source": [
    "# 创建对数颜色映射\n",
    "max_filled = filled_stats['filled_dest'].max()\n",
    "log_norm = cm.LinearColormap(\n",
    "    ['yellow', 'orange', 'red'],\n",
    "    vmin=-1,\n",
    "    vmax=np.log1p(max_filled)  # 使用log1p避免log(0)\n",
    ").to_step(10)"
   ]
  },
  {
   "cell_type": "code",
   "execution_count": 19,
   "metadata": {},
   "outputs": [
    {
     "name": "stdout",
     "output_type": "stream",
     "text": [
      "填补后的网格热度图已保存到：data/visualization/filled_grid_heatmap.html\n",
      "请在浏览器中打开该文件查看结果\n"
     ]
    }
   ],
   "source": [
    "# 创建基础地图\n",
    "m2 = folium.Map(location=shanghai_center, zoom_start=11)\n",
    "\n",
    "# 添加网格和热度\n",
    "for _, grid in filled_stats.iterrows():\n",
    "    # 获取网格边界\n",
    "    grid_info = grids_gdf.loc[grids_gdf['grid_id'] == grid['grid_id']]\n",
    "    min_y = float(grid_info['min_y'].values[0])\n",
    "    max_y = float(grid_info['max_y'].values[0])\n",
    "    min_x = float(grid_info['min_x'].values[0])\n",
    "    max_x = float(grid_info['max_x'].values[0])\n",
    "    \n",
    "    bounds = [(min_y, min_x), (max_y, max_x)]\n",
    "    \n",
    "    # 计算颜色（使用填补后的值）\n",
    "    dest_value = grid['filled_dest']\n",
    "    color = log_norm(np.log1p(dest_value))\n",
    "\n",
    "    # 创建矩形\n",
    "    folium.Rectangle(\n",
    "        bounds=bounds,\n",
    "        color=color,\n",
    "        fill=True,\n",
    "        fill_color=color,\n",
    "        fill_opacity=0.6,\n",
    "        weight=1,\n",
    "        tooltip=f\"ID: {grid['grid_id']}, Destination: {dest_value}\"\n",
    "    ).add_to(m2)\n",
    "\n",
    "# 添加颜色图例\n",
    "log_norm.caption = 'Destination Count (log scale)'\n",
    "m2.add_child(log_norm)\n",
    "\n",
    "# 保存地图\n",
    "m2.save('data/visualization/filled_grid_heatmap.html')\n",
    "\n",
    "print(\"填补后的网格热度图已保存到：data/visualization/filled_grid_heatmap.html\")\n",
    "print(\"请在浏览器中打开该文件查看结果\")"
   ]
  },
  {
   "cell_type": "code",
   "execution_count": 20,
   "metadata": {},
   "outputs": [
    {
     "name": "stdout",
     "output_type": "stream",
     "text": [
      "\n",
      "统计结果验证：\n",
      "总起点次数: 95110.25\n",
      "总终点次数: 95584.125\n"
     ]
    }
   ],
   "source": [
    "# 检查统计结果\n",
    "print(\"\\n统计结果验证：\")\n",
    "print(f\"总起点次数: {filled_stats['filled_origin'].sum()}\")\n",
    "print(f\"总终点次数: {filled_stats['filled_dest'].sum()}\")"
   ]
  },
  {
   "cell_type": "markdown",
   "metadata": {},
   "source": [
    "### 3.3 距离计算\n",
    "我们将任意两个区域的距离定义为网格中心点的欧式距离。"
   ]
  },
  {
   "cell_type": "code",
   "execution_count": 25,
   "metadata": {},
   "outputs": [],
   "source": [
    "from math import radians, cos, sin, sqrt, atan2"
   ]
  },
  {
   "cell_type": "code",
   "execution_count": 26,
   "metadata": {},
   "outputs": [],
   "source": [
    "def haversine(lon1, lat1, lon2, lat2):\n",
    "    \"\"\"\n",
    "    使用Haversine公式计算两个经纬度坐标之间的距离（单位：公里）\n",
    "    \"\"\"\n",
    "    # 地球半径（公里）\n",
    "    R = 6371.0\n",
    "    \n",
    "    # 将角度转换为弧度\n",
    "    lon1, lat1, lon2, lat2 = map(radians, [lon1, lat1, lon2, lat2])\n",
    "    \n",
    "    # 计算差值\n",
    "    dlon = lon2 - lon1\n",
    "    dlat = lat2 - lat1\n",
    "    \n",
    "    # Haversine公式\n",
    "    a = sin(dlat / 2)**2 + cos(lat1) * cos(lat2) * sin(dlon / 2)**2\n",
    "    c = 2 * atan2(sqrt(a), sqrt(1 - a))\n",
    "    \n",
    "    return R * c"
   ]
  },
  {
   "cell_type": "code",
   "execution_count": 27,
   "metadata": {},
   "outputs": [],
   "source": [
    "# 计算网格中心点\n",
    "grids_gdf['center_x'] = (grids_gdf['min_x'] + grids_gdf['max_x']) / 2\n",
    "grids_gdf['center_y'] = (grids_gdf['min_y'] + grids_gdf['max_y']) / 2\n",
    "\n",
    "# 获取所有网格ID和中心点坐标\n",
    "grid_ids = grids_gdf['grid_id'].values\n",
    "centers = grids_gdf[['center_x', 'center_y']].values"
   ]
  },
  {
   "cell_type": "code",
   "execution_count": 28,
   "metadata": {},
   "outputs": [],
   "source": [
    "# 初始化距离矩阵\n",
    "n_grids = len(grid_ids)\n",
    "distance_matrix = np.zeros((n_grids, n_grids))"
   ]
  },
  {
   "cell_type": "code",
   "execution_count": 29,
   "metadata": {},
   "outputs": [],
   "source": [
    "# 计算距离（单位：公里）\n",
    "for i in range(n_grids):\n",
    "    for j in range(n_grids):\n",
    "        if i == j:\n",
    "            distance_matrix[i, j] = 0  # 对角线为0\n",
    "        else:\n",
    "            # 计算两个中心点之间的距离\n",
    "            distance_matrix[i, j] = haversine(\n",
    "                centers[i, 0], centers[i, 1],  # 网格i的经度，纬度\n",
    "                centers[j, 0], centers[j, 1]   # 网格j的经度，纬度\n",
    "            )\n",
    "\n",
    "# 将距离矩阵转换为DataFrame\n",
    "distance_df = pd.DataFrame(distance_matrix, index=grid_ids, columns=grid_ids)"
   ]
  },
  {
   "cell_type": "code",
   "execution_count": 30,
   "metadata": {},
   "outputs": [
    {
     "name": "stdout",
     "output_type": "stream",
     "text": [
      "网格距离矩阵已保存到：data/grid/grid_distance_matrix.csv\n",
      "\n",
      "距离矩阵（前5x5）：\n",
      "          6251      5852      6118      5985      5986\n",
      "6251  0.000000  3.024332  1.009763  2.016754  2.225251\n",
      "5852  3.024332  0.000000  2.016081  1.008070  1.409877\n",
      "6118  1.009763  2.016081  0.000000  1.008021  1.421093\n",
      "5985  2.016754  1.008070  1.008021  0.000000  0.996896\n",
      "5986  2.225251  1.409877  1.421093  0.996896  0.000000\n"
     ]
    }
   ],
   "source": [
    "# 保存距离矩阵\n",
    "distance_df.to_csv('data/grid/grid_distance_matrix.csv')\n",
    "\n",
    "print(\"网格距离矩阵已保存到：data/grid/grid_distance_matrix.csv\")\n",
    "print(\"\\n距离矩阵（前5x5）：\")\n",
    "print(distance_df.iloc[:5, :5])"
   ]
  },
  {
   "cell_type": "markdown",
   "metadata": {},
   "source": [
    "### 3.4 出行流量预测"
   ]
  },
  {
   "cell_type": "code",
   "execution_count": 35,
   "metadata": {},
   "outputs": [],
   "source": [
    "def calculate_p_norm(filled_stats):\n",
    "    \"\"\"计算P_norm(i)\"\"\"\n",
    "    total_origin = filled_stats['filled_origin'].sum()\n",
    "    filled_stats['p_norm'] = filled_stats['filled_origin'] / total_origin\n",
    "    return filled_stats"
   ]
  },
  {
   "cell_type": "code",
   "execution_count": 36,
   "metadata": {},
   "outputs": [],
   "source": [
    "def calculate_m_i(filled_stats, distance_matrix, sigma=1.0):\n",
    "    \"\"\"计算M(i)\"\"\"\n",
    "    n = len(filled_stats)\n",
    "    dest_counts = filled_stats['filled_dest'].values\n",
    "    \n",
    "    # 创建一个掩码，排除对角线元素\n",
    "    mask = ~np.eye(n, dtype=bool)\n",
    "    \n",
    "    # 计算距离衰减: 1/d^sigma\n",
    "    distance_decay = np.zeros_like(distance_matrix)\n",
    "    valid_distances = distance_matrix > 0\n",
    "    distance_decay[valid_distances] = distance_matrix[valid_distances] ** (-sigma)\n",
    "\n",
    "    # 对每行进行点积运算: sum(P(j)/d_ij^sigma)\n",
    "    m_values = np.zeros(n)\n",
    "    for i in range(n):\n",
    "        m_values[i] = np.sum(dest_counts * distance_decay[i] * mask[i])\n",
    "    \n",
    "    filled_stats['m_i'] = m_values\n",
    "    return filled_stats"
   ]
  },
  {
   "cell_type": "code",
   "execution_count": 37,
   "metadata": {},
   "outputs": [],
   "source": [
    "def predict_traffic(filled_stats, distance_matrix, sigma=1.0):\n",
    "    \"\"\"\n",
    "    预测出行流量\n",
    "    :param filled_stats: 包含观测值的网格统计数据\n",
    "    :param distance_matrix: 网格距离矩阵（公里）\n",
    "    :param sigma: 距离衰减参数\n",
    "    :return: 包含预测结果的DataFrame\n",
    "    \"\"\"\n",
    "    # 计算P_norm\n",
    "    filled_stats = calculate_p_norm(filled_stats)\n",
    "    \n",
    "    # 计算M(i)\n",
    "    filled_stats = calculate_m_i(filled_stats, distance_matrix, sigma)\n",
    "    \n",
    "    # 总行程数\n",
    "    T = filled_stats['filled_origin'].sum()\n",
    "    \n",
    "    # 初始化预测矩阵\n",
    "    n = len(filled_stats)\n",
    "    p_norm_values = filled_stats['p_norm'].values\n",
    "    dest_counts = filled_stats['filled_dest'].values\n",
    "    m_i_values = filled_stats['m_i'].values\n",
    "    \n",
    "    # 创建一个掩码，排除对角线元素\n",
    "    mask = ~np.eye(n, dtype=bool)\n",
    "    \n",
    "    # 初始化预测矩阵\n",
    "    predicted_matrix = np.zeros((n, n))\n",
    "    \n",
    "    # 计算距离衰减\n",
    "    distance_decay = np.zeros_like(distance_matrix)\n",
    "    valid_distances = distance_matrix > 0\n",
    "    distance_decay[valid_distances] = distance_matrix[valid_distances] ** (-sigma)\n",
    "\n",
    "    # 向量化计算预测矩阵\n",
    "    for i in range(n):\n",
    "        # 计算 (T/m_i) * p_norm_i * p_j / d_ij^sigma\n",
    "        scale = (T / m_i_values[i]) * p_norm_values[i] if m_i_values[i] > 0 else 0\n",
    "        predicted_matrix[i] = scale * dest_counts * distance_decay[i] * mask[i]\n",
    "    \n",
    "    # 将预测矩阵转换为DataFrame\n",
    "    grid_ids = filled_stats['grid_id'].values\n",
    "    predicted_df = pd.DataFrame(predicted_matrix, index=grid_ids, columns=grid_ids)\n",
    "    \n",
    "    return predicted_df"
   ]
  },
  {
   "cell_type": "code",
   "execution_count": 39,
   "metadata": {},
   "outputs": [
    {
     "name": "stdout",
     "output_type": "stream",
     "text": [
      "出行流量预测矩阵已保存到：data/results/predicted_traffic_matrix.csv\n",
      "\n",
      "预测矩阵（前5x5）：\n",
      "      6251  5852  6118  5985  5986\n",
      "6251   0.0   0.0   0.0   0.0   0.0\n",
      "5852   0.0   0.0   0.0   0.0   0.0\n",
      "6118   0.0   0.0   0.0   0.0   0.0\n",
      "5985   0.0   0.0   0.0   0.0   0.0\n",
      "5986   0.0   0.0   0.0   0.0   0.0\n"
     ]
    }
   ],
   "source": [
    "sigma = 1.0  # 距离衰减参数\n",
    "predicted_traffic = predict_traffic(filled_stats, distance_matrix, sigma)\n",
    "\n",
    "# 保存预测结果\n",
    "predicted_traffic.to_csv('data/results/predicted_traffic_matrix.csv')\n",
    "\n",
    "print(\"出行流量预测矩阵已保存到：data/results/predicted_traffic_matrix.csv\")\n",
    "print(\"\\n预测矩阵（前5x5）：\")\n",
    "print(predicted_traffic.iloc[:5, :5].round(2))"
   ]
  },
  {
   "cell_type": "markdown",
   "metadata": {},
   "source": [
    "### 3.5 参数优化"
   ]
  },
  {
   "cell_type": "code",
   "execution_count": 40,
   "metadata": {},
   "outputs": [],
   "source": [
    "from scipy.optimize import minimize"
   ]
  },
  {
   "cell_type": "code",
   "execution_count": 41,
   "metadata": {},
   "outputs": [],
   "source": [
    "def calculate_negative_log_likelihood(sigma, filled_stats, distance_matrix, observed_matrix):\n",
    "    \"\"\"\n",
    "    计算负对数似然\n",
    "    :param sigma: 距离衰减参数\n",
    "    :param filled_stats: 网格统计数据\n",
    "    :param distance_matrix: 距离矩阵\n",
    "    :param observed_matrix: 观测到的出行矩阵\n",
    "    :return: 负对数似然值\n",
    "    \"\"\"\n",
    "    # 获取预测值\n",
    "    predicted_matrix = predict_traffic(filled_stats, distance_matrix, sigma).values\n",
    "    \n",
    "    # 计算负对数似然\n",
    "    nll = 0\n",
    "    n = len(filled_stats)\n",
    "    for i in range(n):\n",
    "        for j in range(n):\n",
    "            if i == j:\n",
    "                continue\n",
    "            t_ij = observed_matrix[i, j]\n",
    "            if t_ij > 0:\n",
    "                pred_ij = predicted_matrix[i, j]\n",
    "                if pred_ij > 0:\n",
    "                    nll -= t_ij * np.log(pred_ij)\n",
    "    \n",
    "    return nll"
   ]
  },
  {
   "cell_type": "code",
   "execution_count": 42,
   "metadata": {},
   "outputs": [],
   "source": [
    "def optimize_sigma(filled_stats, distance_matrix, observed_matrix, sigma_init=1.0):\n",
    "    \"\"\"\n",
    "    优化距离衰减参数sigma\n",
    "    :param filled_stats: 网格统计数据\n",
    "    :param distance_matrix: 距离矩阵\n",
    "    :param observed_matrix: 观测到的出行矩阵\n",
    "    :param sigma_init: sigma的初始值\n",
    "    :return: 优化后的sigma值\n",
    "    \"\"\"\n",
    "    # 定义优化函数\n",
    "    def objective(sigma):\n",
    "        return calculate_negative_log_likelihood(sigma[0], filled_stats, distance_matrix, observed_matrix)\n",
    "    \n",
    "    # 设置优化范围\n",
    "    bounds = [(0.1, 2.0)]  # sigma的范围\n",
    "    \n",
    "    # 进行优化\n",
    "    result = minimize(objective, [sigma_init], bounds=bounds, method='L-BFGS-B')\n",
    "    \n",
    "    return result.x[0]"
   ]
  },
  {
   "cell_type": "code",
   "execution_count": 44,
   "metadata": {},
   "outputs": [
    {
     "ename": "KeyboardInterrupt",
     "evalue": "",
     "output_type": "error",
     "traceback": [
      "\u001b[0;31m---------------------------------------------------------------------------\u001b[0m",
      "\u001b[0;31mKeyboardInterrupt\u001b[0m                         Traceback (most recent call last)",
      "Cell \u001b[0;32mIn[44], line 5\u001b[0m\n\u001b[1;32m      3\u001b[0m \u001b[38;5;28;01mfor\u001b[39;00m _, trip \u001b[38;5;129;01min\u001b[39;00m final_trips\u001b[38;5;241m.\u001b[39miterrows():\n\u001b[1;32m      4\u001b[0m     origin_idx \u001b[38;5;241m=\u001b[39m np\u001b[38;5;241m.\u001b[39mwhere(filled_stats[\u001b[38;5;124m'\u001b[39m\u001b[38;5;124mgrid_id\u001b[39m\u001b[38;5;124m'\u001b[39m] \u001b[38;5;241m==\u001b[39m trip[\u001b[38;5;124m'\u001b[39m\u001b[38;5;124morigin_grid\u001b[39m\u001b[38;5;124m'\u001b[39m])[\u001b[38;5;241m0\u001b[39m][\u001b[38;5;241m0\u001b[39m]\n\u001b[0;32m----> 5\u001b[0m     dest_idx \u001b[38;5;241m=\u001b[39m np\u001b[38;5;241m.\u001b[39mwhere(\u001b[43mfilled_stats\u001b[49m\u001b[43m[\u001b[49m\u001b[38;5;124;43m'\u001b[39;49m\u001b[38;5;124;43mgrid_id\u001b[39;49m\u001b[38;5;124;43m'\u001b[39;49m\u001b[43m]\u001b[49m\u001b[43m \u001b[49m\u001b[38;5;241;43m==\u001b[39;49m\u001b[43m \u001b[49m\u001b[43mtrip\u001b[49m\u001b[43m[\u001b[49m\u001b[38;5;124;43m'\u001b[39;49m\u001b[38;5;124;43mdest_grid\u001b[39;49m\u001b[38;5;124;43m'\u001b[39;49m\u001b[43m]\u001b[49m)[\u001b[38;5;241m0\u001b[39m][\u001b[38;5;241m0\u001b[39m]\n\u001b[1;32m      6\u001b[0m     observed_matrix[origin_idx, dest_idx] \u001b[38;5;241m+\u001b[39m\u001b[38;5;241m=\u001b[39m \u001b[38;5;241m1\u001b[39m\n\u001b[1;32m      8\u001b[0m \u001b[38;5;66;03m# 优化sigma\u001b[39;00m\n",
      "File \u001b[0;32m/opt/homebrew/anaconda3/envs/taxi/lib/python3.10/site-packages/pandas/core/ops/common.py:76\u001b[0m, in \u001b[0;36m_unpack_zerodim_and_defer.<locals>.new_method\u001b[0;34m(self, other)\u001b[0m\n\u001b[1;32m     72\u001b[0m             \u001b[38;5;28;01mreturn\u001b[39;00m \u001b[38;5;28mNotImplemented\u001b[39m\n\u001b[1;32m     74\u001b[0m other \u001b[38;5;241m=\u001b[39m item_from_zerodim(other)\n\u001b[0;32m---> 76\u001b[0m \u001b[38;5;28;01mreturn\u001b[39;00m \u001b[43mmethod\u001b[49m\u001b[43m(\u001b[49m\u001b[38;5;28;43mself\u001b[39;49m\u001b[43m,\u001b[49m\u001b[43m \u001b[49m\u001b[43mother\u001b[49m\u001b[43m)\u001b[49m\n",
      "File \u001b[0;32m/opt/homebrew/anaconda3/envs/taxi/lib/python3.10/site-packages/pandas/core/arraylike.py:40\u001b[0m, in \u001b[0;36mOpsMixin.__eq__\u001b[0;34m(self, other)\u001b[0m\n\u001b[1;32m     38\u001b[0m \u001b[38;5;129m@unpack_zerodim_and_defer\u001b[39m(\u001b[38;5;124m\"\u001b[39m\u001b[38;5;124m__eq__\u001b[39m\u001b[38;5;124m\"\u001b[39m)\n\u001b[1;32m     39\u001b[0m \u001b[38;5;28;01mdef\u001b[39;00m\u001b[38;5;250m \u001b[39m\u001b[38;5;21m__eq__\u001b[39m(\u001b[38;5;28mself\u001b[39m, other):\n\u001b[0;32m---> 40\u001b[0m     \u001b[38;5;28;01mreturn\u001b[39;00m \u001b[38;5;28;43mself\u001b[39;49m\u001b[38;5;241;43m.\u001b[39;49m\u001b[43m_cmp_method\u001b[49m\u001b[43m(\u001b[49m\u001b[43mother\u001b[49m\u001b[43m,\u001b[49m\u001b[43m \u001b[49m\u001b[43moperator\u001b[49m\u001b[38;5;241;43m.\u001b[39;49m\u001b[43meq\u001b[49m\u001b[43m)\u001b[49m\n",
      "File \u001b[0;32m/opt/homebrew/anaconda3/envs/taxi/lib/python3.10/site-packages/pandas/core/series.py:6121\u001b[0m, in \u001b[0;36mSeries._cmp_method\u001b[0;34m(self, other, op)\u001b[0m\n\u001b[1;32m   6117\u001b[0m rvalues \u001b[38;5;241m=\u001b[39m extract_array(other, extract_numpy\u001b[38;5;241m=\u001b[39m\u001b[38;5;28;01mTrue\u001b[39;00m, extract_range\u001b[38;5;241m=\u001b[39m\u001b[38;5;28;01mTrue\u001b[39;00m)\n\u001b[1;32m   6119\u001b[0m res_values \u001b[38;5;241m=\u001b[39m ops\u001b[38;5;241m.\u001b[39mcomparison_op(lvalues, rvalues, op)\n\u001b[0;32m-> 6121\u001b[0m \u001b[38;5;28;01mreturn\u001b[39;00m \u001b[38;5;28;43mself\u001b[39;49m\u001b[38;5;241;43m.\u001b[39;49m\u001b[43m_construct_result\u001b[49m\u001b[43m(\u001b[49m\u001b[43mres_values\u001b[49m\u001b[43m,\u001b[49m\u001b[43m \u001b[49m\u001b[43mname\u001b[49m\u001b[38;5;241;43m=\u001b[39;49m\u001b[43mres_name\u001b[49m\u001b[43m)\u001b[49m\n",
      "File \u001b[0;32m/opt/homebrew/anaconda3/envs/taxi/lib/python3.10/site-packages/pandas/core/series.py:6231\u001b[0m, in \u001b[0;36mSeries._construct_result\u001b[0;34m(self, result, name)\u001b[0m\n\u001b[1;32m   6228\u001b[0m \u001b[38;5;66;03m# TODO: result should always be ArrayLike, but this fails for some\u001b[39;00m\n\u001b[1;32m   6229\u001b[0m \u001b[38;5;66;03m#  JSONArray tests\u001b[39;00m\n\u001b[1;32m   6230\u001b[0m dtype \u001b[38;5;241m=\u001b[39m \u001b[38;5;28mgetattr\u001b[39m(result, \u001b[38;5;124m\"\u001b[39m\u001b[38;5;124mdtype\u001b[39m\u001b[38;5;124m\"\u001b[39m, \u001b[38;5;28;01mNone\u001b[39;00m)\n\u001b[0;32m-> 6231\u001b[0m out \u001b[38;5;241m=\u001b[39m \u001b[38;5;28;43mself\u001b[39;49m\u001b[38;5;241;43m.\u001b[39;49m\u001b[43m_constructor\u001b[49m\u001b[43m(\u001b[49m\u001b[43mresult\u001b[49m\u001b[43m,\u001b[49m\u001b[43m \u001b[49m\u001b[43mindex\u001b[49m\u001b[38;5;241;43m=\u001b[39;49m\u001b[38;5;28;43mself\u001b[39;49m\u001b[38;5;241;43m.\u001b[39;49m\u001b[43mindex\u001b[49m\u001b[43m,\u001b[49m\u001b[43m \u001b[49m\u001b[43mdtype\u001b[49m\u001b[38;5;241;43m=\u001b[39;49m\u001b[43mdtype\u001b[49m\u001b[43m,\u001b[49m\u001b[43m \u001b[49m\u001b[43mcopy\u001b[49m\u001b[38;5;241;43m=\u001b[39;49m\u001b[38;5;28;43;01mFalse\u001b[39;49;00m\u001b[43m)\u001b[49m\n\u001b[1;32m   6232\u001b[0m out \u001b[38;5;241m=\u001b[39m out\u001b[38;5;241m.\u001b[39m__finalize__(\u001b[38;5;28mself\u001b[39m)\n\u001b[1;32m   6234\u001b[0m \u001b[38;5;66;03m# Set the result's name after __finalize__ is called because __finalize__\u001b[39;00m\n\u001b[1;32m   6235\u001b[0m \u001b[38;5;66;03m#  would set it back to self.name\u001b[39;00m\n",
      "File \u001b[0;32m/opt/homebrew/anaconda3/envs/taxi/lib/python3.10/site-packages/pandas/core/series.py:594\u001b[0m, in \u001b[0;36mSeries.__init__\u001b[0;34m(self, data, index, dtype, name, copy, fastpath)\u001b[0m\n\u001b[1;32m    592\u001b[0m NDFrame\u001b[38;5;241m.\u001b[39m\u001b[38;5;21m__init__\u001b[39m(\u001b[38;5;28mself\u001b[39m, data)\n\u001b[1;32m    593\u001b[0m \u001b[38;5;28mself\u001b[39m\u001b[38;5;241m.\u001b[39mname \u001b[38;5;241m=\u001b[39m name\n\u001b[0;32m--> 594\u001b[0m \u001b[38;5;28;43mself\u001b[39;49m\u001b[38;5;241;43m.\u001b[39;49m\u001b[43m_set_axis\u001b[49m\u001b[43m(\u001b[49m\u001b[38;5;241;43m0\u001b[39;49m\u001b[43m,\u001b[49m\u001b[43m \u001b[49m\u001b[43mindex\u001b[49m\u001b[43m)\u001b[49m\n\u001b[1;32m    596\u001b[0m \u001b[38;5;28;01mif\u001b[39;00m original_dtype \u001b[38;5;129;01mis\u001b[39;00m \u001b[38;5;28;01mNone\u001b[39;00m \u001b[38;5;129;01mand\u001b[39;00m is_pandas_object \u001b[38;5;129;01mand\u001b[39;00m data_dtype \u001b[38;5;241m==\u001b[39m np\u001b[38;5;241m.\u001b[39mobject_:\n\u001b[1;32m    597\u001b[0m     \u001b[38;5;28;01mif\u001b[39;00m \u001b[38;5;28mself\u001b[39m\u001b[38;5;241m.\u001b[39mdtype \u001b[38;5;241m!=\u001b[39m data_dtype:\n",
      "File \u001b[0;32m/opt/homebrew/anaconda3/envs/taxi/lib/python3.10/site-packages/pandas/core/generic.py:814\u001b[0m, in \u001b[0;36mNDFrame._set_axis\u001b[0;34m(self, axis, labels)\u001b[0m\n\u001b[1;32m    809\u001b[0m \u001b[38;5;250m\u001b[39m\u001b[38;5;124;03m\"\"\"\u001b[39;00m\n\u001b[1;32m    810\u001b[0m \u001b[38;5;124;03mThis is called from the cython code when we set the `index` attribute\u001b[39;00m\n\u001b[1;32m    811\u001b[0m \u001b[38;5;124;03mdirectly, e.g. `series.index = [1, 2, 3]`.\u001b[39;00m\n\u001b[1;32m    812\u001b[0m \u001b[38;5;124;03m\"\"\"\u001b[39;00m\n\u001b[1;32m    813\u001b[0m labels \u001b[38;5;241m=\u001b[39m ensure_index(labels)\n\u001b[0;32m--> 814\u001b[0m \u001b[38;5;28;43mself\u001b[39;49m\u001b[38;5;241;43m.\u001b[39;49m\u001b[43m_mgr\u001b[49m\u001b[38;5;241;43m.\u001b[39;49m\u001b[43mset_axis\u001b[49m\u001b[43m(\u001b[49m\u001b[43maxis\u001b[49m\u001b[43m,\u001b[49m\u001b[43m \u001b[49m\u001b[43mlabels\u001b[49m\u001b[43m)\u001b[49m\n\u001b[1;32m    815\u001b[0m \u001b[38;5;28mself\u001b[39m\u001b[38;5;241m.\u001b[39m_clear_item_cache()\n",
      "File \u001b[0;32m/opt/homebrew/anaconda3/envs/taxi/lib/python3.10/site-packages/pandas/core/internals/managers.py:238\u001b[0m, in \u001b[0;36mBaseBlockManager.set_axis\u001b[0;34m(self, axis, new_labels)\u001b[0m\n\u001b[1;32m    236\u001b[0m \u001b[38;5;28;01mdef\u001b[39;00m\u001b[38;5;250m \u001b[39m\u001b[38;5;21mset_axis\u001b[39m(\u001b[38;5;28mself\u001b[39m, axis: AxisInt, new_labels: Index) \u001b[38;5;241m-\u001b[39m\u001b[38;5;241m>\u001b[39m \u001b[38;5;28;01mNone\u001b[39;00m:\n\u001b[1;32m    237\u001b[0m     \u001b[38;5;66;03m# Caller is responsible for ensuring we have an Index object.\u001b[39;00m\n\u001b[0;32m--> 238\u001b[0m     \u001b[38;5;28;43mself\u001b[39;49m\u001b[38;5;241;43m.\u001b[39;49m\u001b[43m_validate_set_axis\u001b[49m\u001b[43m(\u001b[49m\u001b[43maxis\u001b[49m\u001b[43m,\u001b[49m\u001b[43m \u001b[49m\u001b[43mnew_labels\u001b[49m\u001b[43m)\u001b[49m\n\u001b[1;32m    239\u001b[0m     \u001b[38;5;28mself\u001b[39m\u001b[38;5;241m.\u001b[39maxes[axis] \u001b[38;5;241m=\u001b[39m new_labels\n",
      "File \u001b[0;32m/opt/homebrew/anaconda3/envs/taxi/lib/python3.10/site-packages/pandas/core/internals/base.py:89\u001b[0m, in \u001b[0;36mDataManager._validate_set_axis\u001b[0;34m(self, axis, new_labels)\u001b[0m\n\u001b[1;32m     86\u001b[0m \u001b[38;5;129m@final\u001b[39m\n\u001b[1;32m     87\u001b[0m \u001b[38;5;28;01mdef\u001b[39;00m\u001b[38;5;250m \u001b[39m\u001b[38;5;21m_validate_set_axis\u001b[39m(\u001b[38;5;28mself\u001b[39m, axis: AxisInt, new_labels: Index) \u001b[38;5;241m-\u001b[39m\u001b[38;5;241m>\u001b[39m \u001b[38;5;28;01mNone\u001b[39;00m:\n\u001b[1;32m     88\u001b[0m     \u001b[38;5;66;03m# Caller is responsible for ensuring we have an Index object.\u001b[39;00m\n\u001b[0;32m---> 89\u001b[0m     old_len \u001b[38;5;241m=\u001b[39m \u001b[38;5;28;43mlen\u001b[39;49m\u001b[43m(\u001b[49m\u001b[38;5;28;43mself\u001b[39;49m\u001b[38;5;241;43m.\u001b[39;49m\u001b[43maxes\u001b[49m\u001b[43m[\u001b[49m\u001b[43maxis\u001b[49m\u001b[43m]\u001b[49m\u001b[43m)\u001b[49m\n\u001b[1;32m     90\u001b[0m     new_len \u001b[38;5;241m=\u001b[39m \u001b[38;5;28mlen\u001b[39m(new_labels)\n\u001b[1;32m     92\u001b[0m     \u001b[38;5;28;01mif\u001b[39;00m axis \u001b[38;5;241m==\u001b[39m \u001b[38;5;241m1\u001b[39m \u001b[38;5;129;01mand\u001b[39;00m \u001b[38;5;28mlen\u001b[39m(\u001b[38;5;28mself\u001b[39m\u001b[38;5;241m.\u001b[39mitems) \u001b[38;5;241m==\u001b[39m \u001b[38;5;241m0\u001b[39m:\n\u001b[1;32m     93\u001b[0m         \u001b[38;5;66;03m# If we are setting the index on a DataFrame with no columns,\u001b[39;00m\n\u001b[1;32m     94\u001b[0m         \u001b[38;5;66;03m#  it is OK to change the length.\u001b[39;00m\n",
      "File \u001b[0;32m/opt/homebrew/anaconda3/envs/taxi/lib/python3.10/site-packages/pandas/core/indexes/range.py:999\u001b[0m, in \u001b[0;36mRangeIndex.__len__\u001b[0;34m(self)\u001b[0m\n\u001b[1;32m    995\u001b[0m     \u001b[38;5;66;03m# Here all \"indexes\" had 0 length, i.e. were empty.\u001b[39;00m\n\u001b[1;32m    996\u001b[0m     \u001b[38;5;66;03m# In this case return an empty range index.\u001b[39;00m\n\u001b[1;32m    997\u001b[0m     \u001b[38;5;28;01mreturn\u001b[39;00m RangeIndex(\u001b[38;5;241m0\u001b[39m, \u001b[38;5;241m0\u001b[39m)\u001b[38;5;241m.\u001b[39mrename(name)\n\u001b[0;32m--> 999\u001b[0m \u001b[38;5;28;01mdef\u001b[39;00m\u001b[38;5;250m \u001b[39m\u001b[38;5;21m__len__\u001b[39m(\u001b[38;5;28mself\u001b[39m) \u001b[38;5;241m-\u001b[39m\u001b[38;5;241m>\u001b[39m \u001b[38;5;28mint\u001b[39m:\n\u001b[1;32m   1000\u001b[0m \u001b[38;5;250m    \u001b[39m\u001b[38;5;124;03m\"\"\"\u001b[39;00m\n\u001b[1;32m   1001\u001b[0m \u001b[38;5;124;03m    return the length of the RangeIndex\u001b[39;00m\n\u001b[1;32m   1002\u001b[0m \u001b[38;5;124;03m    \"\"\"\u001b[39;00m\n\u001b[1;32m   1003\u001b[0m     \u001b[38;5;28;01mreturn\u001b[39;00m \u001b[38;5;28mlen\u001b[39m(\u001b[38;5;28mself\u001b[39m\u001b[38;5;241m.\u001b[39m_range)\n",
      "\u001b[0;31mKeyboardInterrupt\u001b[0m: "
     ]
    }
   ],
   "source": [
    "# 准备观测矩阵\n",
    "observed_matrix = np.zeros_like(distance_matrix)\n",
    "for _, trip in final_trips.iterrows():\n",
    "    origin_idx = np.where(filled_stats['grid_id'] == trip['origin_grid'])[0][0]\n",
    "    dest_idx = np.where(filled_stats['grid_id'] == trip['dest_grid'])[0][0]\n",
    "    observed_matrix[origin_idx, dest_idx] += 1\n",
    "\n",
    "# 优化sigma\n",
    "optimal_sigma = optimize_sigma(filled_stats, distance_matrix, observed_matrix)\n",
    "\n",
    "print(f\"优化后的距离衰减参数 sigma: {optimal_sigma:.4f}\")\n",
    "\n",
    "# 使用优化后的sigma重新预测\n",
    "predicted_traffic_optimal = predict_traffic(filled_stats, distance_matrix, optimal_sigma)\n",
    "predicted_traffic_optimal.to_csv('data/results/predicted_traffic_matrix_optimal.csv')\n",
    "\n",
    "print(\"使用优化参数后的预测矩阵已保存到：data/results/predicted_traffic_matrix_optimal.csv\")"
   ]
  }
 ],
 "metadata": {
  "kernelspec": {
   "display_name": "taxi",
   "language": "python",
   "name": "python3"
  },
  "language_info": {
   "codemirror_mode": {
    "name": "ipython",
    "version": 3
   },
   "file_extension": ".py",
   "mimetype": "text/x-python",
   "name": "python",
   "nbconvert_exporter": "python",
   "pygments_lexer": "ipython3",
   "version": "3.10.16"
  }
 },
 "nbformat": 4,
 "nbformat_minor": 2
}
